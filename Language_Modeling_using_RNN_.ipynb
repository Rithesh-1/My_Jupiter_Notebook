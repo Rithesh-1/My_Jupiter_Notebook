{
  "nbformat": 4,
  "nbformat_minor": 0,
  "metadata": {
    "colab": {
      "provenance": [],
      "gpuType": "T4"
    },
    "kernelspec": {
      "name": "python3",
      "display_name": "Python 3"
    },
    "language_info": {
      "name": "python"
    },
    "accelerator": "GPU"
  },
  "cells": [
    {
      "cell_type": "code",
      "source": [
        "!pip install keras_preprocessing"
      ],
      "metadata": {
        "colab": {
          "base_uri": "https://localhost:8080/"
        },
        "id": "P68iuOqO1lCH",
        "outputId": "fa929b24-4594-4c1e-c87a-65e1a02d66f2"
      },
      "execution_count": 2,
      "outputs": [
        {
          "output_type": "stream",
          "name": "stdout",
          "text": [
            "Collecting keras_preprocessing\n",
            "  Downloading Keras_Preprocessing-1.1.2-py2.py3-none-any.whl (42 kB)\n",
            "\u001b[2K     \u001b[90m━━━━━━━━━━━━━━━━━━━━━━━━━━━━━━━━━━━━━━━━\u001b[0m \u001b[32m42.6/42.6 kB\u001b[0m \u001b[31m573.3 kB/s\u001b[0m eta \u001b[36m0:00:00\u001b[0m\n",
            "\u001b[?25hRequirement already satisfied: numpy>=1.9.1 in /usr/local/lib/python3.10/dist-packages (from keras_preprocessing) (1.25.2)\n",
            "Requirement already satisfied: six>=1.9.0 in /usr/local/lib/python3.10/dist-packages (from keras_preprocessing) (1.16.0)\n",
            "Installing collected packages: keras_preprocessing\n",
            "Successfully installed keras_preprocessing-1.1.2\n"
          ]
        }
      ]
    },
    {
      "cell_type": "code",
      "execution_count": 3,
      "metadata": {
        "id": "Ausn95ugzVDC"
      },
      "outputs": [],
      "source": [
        "from keras.datasets import imdb\n",
        "from keras_preprocessing.sequence import pad_sequences\n",
        "import tensorflow as tf"
      ]
    },
    {
      "cell_type": "code",
      "source": [
        "# let's load the dataset and then split\n",
        "# it into training and testing sets\n",
        "features = 2000\n",
        "len = 50\n",
        "(X_train, y_train), (X_test, y_test) = imdb.load_data(num_words=features)\n",
        "\n",
        "\n",
        "# we are using pad sequences to a fixed length\n",
        "X_train = pad_sequences(X_train, maxlen=len)\n",
        "X_test = pad_sequences(X_test, maxlen=len)"
      ],
      "metadata": {
        "id": "sL5A2zAO1sFW",
        "colab": {
          "base_uri": "https://localhost:8080/"
        },
        "outputId": "afcbbced-b22c-4bfa-b63d-397d68aa4101"
      },
      "execution_count": 4,
      "outputs": [
        {
          "output_type": "stream",
          "name": "stdout",
          "text": [
            "Downloading data from https://storage.googleapis.com/tensorflow/tf-keras-datasets/imdb.npz\n",
            "17464789/17464789 [==============================] - 0s 0us/step\n"
          ]
        }
      ]
    },
    {
      "cell_type": "code",
      "source": [
        "print(X_train.shape)\n",
        "print(X_test.shape)"
      ],
      "metadata": {
        "colab": {
          "base_uri": "https://localhost:8080/"
        },
        "id": "9SWNjr2c5-h9",
        "outputId": "502b1892-f9e0-4b6a-bf68-ba79b99dc286"
      },
      "execution_count": 5,
      "outputs": [
        {
          "output_type": "stream",
          "name": "stdout",
          "text": [
            "(25000, 50)\n",
            "(25000, 50)\n"
          ]
        }
      ]
    },
    {
      "cell_type": "code",
      "source": [
        "print(y_train.shape)"
      ],
      "metadata": {
        "colab": {
          "base_uri": "https://localhost:8080/"
        },
        "id": "XC3StOQw6oI3",
        "outputId": "0f24269d-ef78-48c9-a2f7-8d2a2f40d974"
      },
      "execution_count": 6,
      "outputs": [
        {
          "output_type": "stream",
          "name": "stdout",
          "text": [
            "(25000,)\n"
          ]
        }
      ]
    },
    {
      "cell_type": "code",
      "source": [
        "y_train[1:10]"
      ],
      "metadata": {
        "colab": {
          "base_uri": "https://localhost:8080/"
        },
        "id": "7okb2zX86teQ",
        "outputId": "676247d6-0080-42cc-872d-7953c92fefa1"
      },
      "execution_count": 7,
      "outputs": [
        {
          "output_type": "execute_result",
          "data": {
            "text/plain": [
              "array([0, 0, 1, 0, 0, 1, 0, 1, 0])"
            ]
          },
          "metadata": {},
          "execution_count": 7
        }
      ]
    },
    {
      "cell_type": "code",
      "source": [
        "X_train[1]"
      ],
      "metadata": {
        "colab": {
          "base_uri": "https://localhost:8080/"
        },
        "id": "u1FVy3v56Kmd",
        "outputId": "17720f0c-4f1a-4088-9858-2c7760f390f3"
      },
      "execution_count": 8,
      "outputs": [
        {
          "output_type": "execute_result",
          "data": {
            "text/plain": [
              "array([   2,    5,    2,  656,  245,    2,    5,    4,    2,  131,  152,\n",
              "        491,   18,    2,   32,    2, 1212,   14,    9,    6,  371,   78,\n",
              "         22,  625,   64, 1382,    9,    8,  168,  145,   23,    4, 1690,\n",
              "         15,   16,    4, 1355,    5,   28,    6,   52,  154,  462,   33,\n",
              "         89,   78,  285,   16,  145,   95], dtype=int32)"
            ]
          },
          "metadata": {},
          "execution_count": 8
        }
      ]
    },
    {
      "cell_type": "code",
      "source": [
        "# Getting all the words from word_index dictionary\n",
        "word_idx = imdb.get_word_index()\n",
        "\n",
        "# Originally the index number of a value and not a key,\n",
        "# hence converting the index as key and the words as values\n",
        "word_idx = {i: word for word, i in word_idx.items()}\n",
        "\n",
        "# again printing the review\n",
        "print([word_idx[i] for i in X_train[1]])"
      ],
      "metadata": {
        "colab": {
          "base_uri": "https://localhost:8080/"
        },
        "id": "-Pk2eIm__8DU",
        "outputId": "2c5dec22-3512-4e15-dcb5-0aa055195faa"
      },
      "execution_count": null,
      "outputs": [
        {
          "output_type": "stream",
          "name": "stdout",
          "text": [
            "['and', 'to', 'and', 'finds', 'tv', 'and', 'to', 'of', 'and', 'these', 'thing', 'wants', 'but', 'and', 'an', 'and', 'cult', 'as', 'it', 'is', 'video', 'do', 'you', 'david', 'see', 'scenery', 'it', 'in', 'few', 'those', 'are', 'of', 'ship', 'for', 'with', 'of', 'wild', 'to', 'one', 'is', 'very', 'work', 'dark', 'they', \"don't\", 'do', 'dvd', 'with', 'those', 'them']\n"
          ]
        }
      ]
    },
    {
      "cell_type": "code",
      "source": [
        "from keras.models import Sequential\n",
        "from keras.layers import Embedding,Bidirectional, SimpleRNN, Dense"
      ],
      "metadata": {
        "id": "X1-6Q4sA2JOW"
      },
      "execution_count": 9,
      "outputs": []
    },
    {
      "cell_type": "markdown",
      "source": [
        "**Unidirectional RNN**"
      ],
      "metadata": {
        "id": "k5XEhDY936cF"
      }
    },
    {
      "cell_type": "code",
      "source": [
        "# Set the values for the embedding size and\n",
        "# number of hidden units in the RNN layer\n",
        "embedding = 128\n",
        "hidden = 64\n",
        "\n",
        "# Create a Sequential model object\n",
        "model1 = Sequential()\n",
        "model1.add(Embedding(features, embedding,\n",
        "                    input_length=len))\n",
        "model1.add(SimpleRNN(hidden))\n",
        "model1.add(Dense(1, activation='sigmoid'))\n",
        "model1.compile('adam', 'binary_crossentropy',\n",
        "              metrics=['accuracy'])\n",
        "print(model1.summary())"
      ],
      "metadata": {
        "colab": {
          "base_uri": "https://localhost:8080/"
        },
        "id": "eexwcKtW34xN",
        "outputId": "44866b94-fed1-42a5-b0fc-994f6f0e4b0e"
      },
      "execution_count": 10,
      "outputs": [
        {
          "output_type": "stream",
          "name": "stdout",
          "text": [
            "Model: \"sequential\"\n",
            "_________________________________________________________________\n",
            " Layer (type)                Output Shape              Param #   \n",
            "=================================================================\n",
            " embedding (Embedding)       (None, 50, 128)           256000    \n",
            "                                                                 \n",
            " simple_rnn (SimpleRNN)      (None, 64)                12352     \n",
            "                                                                 \n",
            " dense (Dense)               (None, 1)                 65        \n",
            "                                                                 \n",
            "=================================================================\n",
            "Total params: 268417 (1.02 MB)\n",
            "Trainable params: 268417 (1.02 MB)\n",
            "Non-trainable params: 0 (0.00 Byte)\n",
            "_________________________________________________________________\n",
            "None\n"
          ]
        }
      ]
    },
    {
      "cell_type": "code",
      "source": [
        "#set batch size and number of epochs you want\n",
        "batch_size = 32\n",
        "epochs = 5\n",
        "\n",
        "model1.fit(X_train, y_train,\n",
        "          batch_size=batch_size,\n",
        "          epochs=epochs,\n",
        "          validation_data=(X_test, y_test))"
      ],
      "metadata": {
        "colab": {
          "base_uri": "https://localhost:8080/"
        },
        "id": "yX6W8pfe4EAt",
        "outputId": "9e4e6da4-f747-4681-97a7-99e8aaddca1d"
      },
      "execution_count": 16,
      "outputs": [
        {
          "output_type": "stream",
          "name": "stdout",
          "text": [
            "Epoch 1/5\n",
            "782/782 [==============================] - 44s 56ms/step - loss: 0.1325 - accuracy: 0.9510 - val_loss: 0.8017 - val_accuracy: 0.7646\n",
            "Epoch 2/5\n",
            "782/782 [==============================] - 41s 52ms/step - loss: 0.1019 - accuracy: 0.9618 - val_loss: 0.8783 - val_accuracy: 0.7547\n",
            "Epoch 3/5\n",
            "782/782 [==============================] - 40s 52ms/step - loss: 0.0787 - accuracy: 0.9706 - val_loss: 1.0735 - val_accuracy: 0.7478\n",
            "Epoch 4/5\n",
            "782/782 [==============================] - 40s 52ms/step - loss: 0.0778 - accuracy: 0.9714 - val_loss: 1.1607 - val_accuracy: 0.6940\n",
            "Epoch 5/5\n",
            "782/782 [==============================] - 41s 53ms/step - loss: 0.0609 - accuracy: 0.9792 - val_loss: 1.1808 - val_accuracy: 0.7277\n"
          ]
        },
        {
          "output_type": "execute_result",
          "data": {
            "text/plain": [
              "<keras.src.callbacks.History at 0x7aa13afca470>"
            ]
          },
          "metadata": {},
          "execution_count": 16
        }
      ]
    },
    {
      "cell_type": "code",
      "source": [
        "# redefine model to output right after the first hidden layer\n",
        "from tensorflow.keras.models import Model\n",
        "model = Model(inputs=model1.inputs, outputs=model1.layers[0].output)"
      ],
      "metadata": {
        "id": "vHxy_aCUfvZW"
      },
      "execution_count": 17,
      "outputs": []
    },
    {
      "cell_type": "code",
      "source": [
        "features = model.predict(X_test[1])\n",
        "features"
      ],
      "metadata": {
        "colab": {
          "base_uri": "https://localhost:8080/"
        },
        "id": "shIcDNCqgAA1",
        "outputId": "711037a4-276e-4f9d-de6d-5007f4ac9ca5"
      },
      "execution_count": 20,
      "outputs": [
        {
          "output_type": "stream",
          "name": "stdout",
          "text": [
            "2/2 [==============================] - 0s 4ms/step\n"
          ]
        },
        {
          "output_type": "execute_result",
          "data": {
            "text/plain": [
              "array([[-0.00106409,  0.00824866, -0.06177601, ...,  0.07349478,\n",
              "        -0.00321336,  0.0601719 ],\n",
              "       [ 0.06690077,  0.1407671 ,  0.11387948, ..., -0.07172091,\n",
              "        -0.01006031,  0.06057109],\n",
              "       [ 0.06584854,  0.05550298,  0.10783064, ..., -0.07560354,\n",
              "        -0.16340974, -0.04044654],\n",
              "       ...,\n",
              "       [ 0.11216965, -0.02822897,  0.03434373, ...,  0.16575745,\n",
              "        -0.04417638, -0.10910487],\n",
              "       [-0.01357045, -0.06024994,  0.02101284, ...,  0.06257634,\n",
              "         0.03904661, -0.04472475],\n",
              "       [-0.03808314,  0.00602651, -0.03074027, ..., -0.00720564,\n",
              "         0.03058059,  0.03611491]], dtype=float32)"
            ]
          },
          "metadata": {},
          "execution_count": 20
        }
      ]
    },
    {
      "cell_type": "code",
      "source": [
        "features.shape"
      ],
      "metadata": {
        "colab": {
          "base_uri": "https://localhost:8080/"
        },
        "id": "ptpmGNhpgLqN",
        "outputId": "a870044d-ea10-417b-d9ef-05d6db5c0dde"
      },
      "execution_count": 14,
      "outputs": [
        {
          "output_type": "execute_result",
          "data": {
            "text/plain": [
              "(50, 128)"
            ]
          },
          "metadata": {},
          "execution_count": 14
        }
      ]
    },
    {
      "cell_type": "code",
      "source": [
        "modell = Model(inputs=model1.inputs, outputs=model1.layers[1].output)\n",
        "\n",
        "from numpy import expand_dims\n",
        "test = expand_dims(X_test[1], axis=0)\n",
        "features1 = modell.predict(test)\n",
        "features1.shape"
      ],
      "metadata": {
        "colab": {
          "base_uri": "https://localhost:8080/"
        },
        "id": "adlfHVaVga01",
        "outputId": "845f909b-e8a1-4986-d459-4ee6500fb268"
      },
      "execution_count": 23,
      "outputs": [
        {
          "output_type": "stream",
          "name": "stdout",
          "text": [
            "1/1 [==============================] - 0s 120ms/step\n"
          ]
        },
        {
          "output_type": "execute_result",
          "data": {
            "text/plain": [
              "(1, 64)"
            ]
          },
          "metadata": {},
          "execution_count": 23
        }
      ]
    },
    {
      "cell_type": "code",
      "source": [
        "features1"
      ],
      "metadata": {
        "colab": {
          "base_uri": "https://localhost:8080/"
        },
        "id": "gNzcpaJLm1kq",
        "outputId": "d9a328b0-14a2-4941-f491-bcf912de2666"
      },
      "execution_count": 24,
      "outputs": [
        {
          "output_type": "execute_result",
          "data": {
            "text/plain": [
              "array([[ 0.32096925,  0.30421415, -0.51208115, -0.12544009,  0.35478204,\n",
              "         0.77132887, -0.6182165 ,  0.5002717 ,  0.5565328 ,  0.644142  ,\n",
              "        -0.53504133,  0.24685372,  0.3491055 ,  0.5667802 , -0.39225712,\n",
              "        -0.7219206 ,  0.24904081,  0.7040414 ,  0.09419011, -0.00671036,\n",
              "        -0.4555903 , -0.01029287, -0.6439581 , -0.38241813,  0.46459112,\n",
              "        -0.07471412, -0.5883243 ,  0.10084566,  0.07496008,  0.41974232,\n",
              "        -0.45979035, -0.3968719 ,  0.49346355,  0.03045777,  0.2893414 ,\n",
              "         0.7763445 ,  0.5831679 , -0.14925617,  0.84397584, -0.09846085,\n",
              "        -0.21466005,  0.16398564,  0.11852946,  0.8432917 , -0.59958535,\n",
              "         0.38087532,  0.55744755,  0.6256532 ,  0.62337977, -0.5187323 ,\n",
              "         0.3822637 ,  0.22667266,  0.58393705, -0.4100626 , -0.78901213,\n",
              "         0.14078994, -0.60938674,  0.0809363 ,  0.20822577,  0.2514704 ,\n",
              "        -0.17318065,  0.43036172,  0.56032586, -0.0779899 ]],\n",
              "      dtype=float32)"
            ]
          },
          "metadata": {},
          "execution_count": 24
        }
      ]
    },
    {
      "cell_type": "code",
      "source": [
        "# Evaluate the Model\n",
        "\n",
        "loss, accuracy = model1.evaluate(X_test, y_test)\n",
        "print('Test accuracy:', accuracy)"
      ],
      "metadata": {
        "colab": {
          "base_uri": "https://localhost:8080/"
        },
        "id": "17Ad568L4sB9",
        "outputId": "f8ec507a-91b5-4160-d976-0ec11ef46ee3"
      },
      "execution_count": null,
      "outputs": [
        {
          "output_type": "stream",
          "name": "stdout",
          "text": [
            "782/782 [==============================] - 5s 7ms/step - loss: 0.6882 - accuracy: 0.7387\n",
            "Test accuracy: 0.7387199997901917\n"
          ]
        }
      ]
    },
    {
      "cell_type": "markdown",
      "source": [
        "**Bidirectional RNN**"
      ],
      "metadata": {
        "id": "jGyy1zJT4x5H"
      }
    },
    {
      "cell_type": "code",
      "source": [
        "# Set the values for the embedding size and\n",
        "# number of hidden units in the RNN layer\n",
        "embedding = 128\n",
        "hidden = 64\n",
        "\n",
        "# Create a Sequential model object\n",
        "model2 = Sequential()\n",
        "model2.add(Embedding(features, embedding,\n",
        "                    input_length=len))\n",
        "model2.add(Bidirectional(SimpleRNN(hidden)))\n",
        "model2.add(Dense(1, activation='sigmoid'))\n",
        "model2.compile('adam', 'binary_crossentropy',\n",
        "              metrics=['accuracy'])\n",
        "\n",
        "print(model2.summary())"
      ],
      "metadata": {
        "colab": {
          "base_uri": "https://localhost:8080/"
        },
        "id": "kGb8YCY_2Qju",
        "outputId": "b7b95935-d485-4fe5-dfbf-aa56e395b560"
      },
      "execution_count": null,
      "outputs": [
        {
          "output_type": "stream",
          "name": "stdout",
          "text": [
            "Model: \"sequential_4\"\n",
            "_________________________________________________________________\n",
            " Layer (type)                Output Shape              Param #   \n",
            "=================================================================\n",
            " embedding_4 (Embedding)     (None, 50, 128)           256000    \n",
            "                                                                 \n",
            " bidirectional_1 (Bidirecti  (None, 128)               24704     \n",
            " onal)                                                           \n",
            "                                                                 \n",
            " dense_4 (Dense)             (None, 1)                 129       \n",
            "                                                                 \n",
            "=================================================================\n",
            "Total params: 280833 (1.07 MB)\n",
            "Trainable params: 280833 (1.07 MB)\n",
            "Non-trainable params: 0 (0.00 Byte)\n",
            "_________________________________________________________________\n",
            "None\n"
          ]
        }
      ]
    },
    {
      "cell_type": "code",
      "source": [
        "#set batch size and number of epochs you want\n",
        "batch_size = 32\n",
        "epochs = 5\n",
        "\n",
        "model2.fit(X_train, y_train,\n",
        "          batch_size=batch_size,\n",
        "          epochs=epochs,\n",
        "          validation_data=(X_test, y_test))"
      ],
      "metadata": {
        "colab": {
          "base_uri": "https://localhost:8080/"
        },
        "id": "jhgjuo8W2d_1",
        "outputId": "4675aa4f-4aaf-4cf6-d145-10c86a83e56b"
      },
      "execution_count": null,
      "outputs": [
        {
          "output_type": "stream",
          "name": "stdout",
          "text": [
            "Epoch 1/5\n",
            "782/782 [==============================] - 39s 46ms/step - loss: 0.5585 - accuracy: 0.6973 - val_loss: 0.4772 - val_accuracy: 0.7798\n",
            "Epoch 2/5\n",
            "782/782 [==============================] - 38s 49ms/step - loss: 0.4206 - accuracy: 0.8095 - val_loss: 0.4870 - val_accuracy: 0.7636\n",
            "Epoch 3/5\n",
            "782/782 [==============================] - 31s 40ms/step - loss: 0.3385 - accuracy: 0.8557 - val_loss: 0.5110 - val_accuracy: 0.7754\n",
            "Epoch 4/5\n",
            "782/782 [==============================] - 36s 46ms/step - loss: 0.2432 - accuracy: 0.9016 - val_loss: 0.6084 - val_accuracy: 0.7694\n",
            "Epoch 5/5\n",
            "782/782 [==============================] - 31s 40ms/step - loss: 0.1542 - accuracy: 0.9413 - val_loss: 0.7787 - val_accuracy: 0.7372\n"
          ]
        },
        {
          "output_type": "execute_result",
          "data": {
            "text/plain": [
              "<keras.src.callbacks.History at 0x7cb40e852e60>"
            ]
          },
          "metadata": {},
          "execution_count": 9
        }
      ]
    },
    {
      "cell_type": "code",
      "source": [
        "# Evaluate the Model\n",
        "\n",
        "loss, accuracy = model2.evaluate(X_test, y_test)\n",
        "print('Test accuracy:', accuracy)"
      ],
      "metadata": {
        "colab": {
          "base_uri": "https://localhost:8080/"
        },
        "id": "pQNn09aD3X5O",
        "outputId": "2e2bc81a-6834-4b44-8d88-ab6d8501c7f0"
      },
      "execution_count": null,
      "outputs": [
        {
          "output_type": "stream",
          "name": "stdout",
          "text": [
            "782/782 [==============================] - 6s 8ms/step - loss: 0.7787 - accuracy: 0.7372\n",
            "Test accuracy: 0.7371600270271301\n"
          ]
        }
      ]
    }
  ]
}